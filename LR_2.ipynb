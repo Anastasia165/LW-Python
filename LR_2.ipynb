{
 "cells": [
  {
   "cell_type": "code",
   "execution_count": 36,
   "metadata": {},
   "outputs": [
    {
     "data": {
      "text/html": [
       "<div>\n",
       "<style>\n",
       "    .dataframe thead tr:only-child th {\n",
       "        text-align: right;\n",
       "    }\n",
       "\n",
       "    .dataframe thead th {\n",
       "        text-align: left;\n",
       "    }\n",
       "\n",
       "    .dataframe tbody tr th {\n",
       "        vertical-align: top;\n",
       "    }\n",
       "</style>\n",
       "<table border=\"1\" class=\"dataframe\">\n",
       "  <thead>\n",
       "    <tr style=\"text-align: right;\">\n",
       "      <th></th>\n",
       "      <th>PassengerId</th>\n",
       "      <th>Survived</th>\n",
       "      <th>Pclass</th>\n",
       "      <th>Name</th>\n",
       "      <th>Sex</th>\n",
       "      <th>Age</th>\n",
       "      <th>SibSp</th>\n",
       "      <th>Parch</th>\n",
       "      <th>Ticket</th>\n",
       "      <th>Fare</th>\n",
       "      <th>Cabin</th>\n",
       "      <th>Embarked</th>\n",
       "    </tr>\n",
       "  </thead>\n",
       "  <tbody>\n",
       "    <tr>\n",
       "      <th>0</th>\n",
       "      <td>1</td>\n",
       "      <td>0</td>\n",
       "      <td>3</td>\n",
       "      <td>Braund, Mr. Owen Harris</td>\n",
       "      <td>male</td>\n",
       "      <td>22.0</td>\n",
       "      <td>1</td>\n",
       "      <td>0</td>\n",
       "      <td>A/5 21171</td>\n",
       "      <td>7.2500</td>\n",
       "      <td>NaN</td>\n",
       "      <td>S</td>\n",
       "    </tr>\n",
       "    <tr>\n",
       "      <th>1</th>\n",
       "      <td>2</td>\n",
       "      <td>1</td>\n",
       "      <td>1</td>\n",
       "      <td>Cumings, Mrs. John Bradley (Florence Briggs Th...</td>\n",
       "      <td>female</td>\n",
       "      <td>38.0</td>\n",
       "      <td>1</td>\n",
       "      <td>0</td>\n",
       "      <td>PC 17599</td>\n",
       "      <td>71.2833</td>\n",
       "      <td>C85</td>\n",
       "      <td>C</td>\n",
       "    </tr>\n",
       "    <tr>\n",
       "      <th>2</th>\n",
       "      <td>3</td>\n",
       "      <td>1</td>\n",
       "      <td>3</td>\n",
       "      <td>Heikkinen, Miss. Laina</td>\n",
       "      <td>female</td>\n",
       "      <td>26.0</td>\n",
       "      <td>0</td>\n",
       "      <td>0</td>\n",
       "      <td>STON/O2. 3101282</td>\n",
       "      <td>7.9250</td>\n",
       "      <td>NaN</td>\n",
       "      <td>S</td>\n",
       "    </tr>\n",
       "    <tr>\n",
       "      <th>3</th>\n",
       "      <td>4</td>\n",
       "      <td>1</td>\n",
       "      <td>1</td>\n",
       "      <td>Futrelle, Mrs. Jacques Heath (Lily May Peel)</td>\n",
       "      <td>female</td>\n",
       "      <td>35.0</td>\n",
       "      <td>1</td>\n",
       "      <td>0</td>\n",
       "      <td>113803</td>\n",
       "      <td>53.1000</td>\n",
       "      <td>C123</td>\n",
       "      <td>S</td>\n",
       "    </tr>\n",
       "    <tr>\n",
       "      <th>4</th>\n",
       "      <td>5</td>\n",
       "      <td>0</td>\n",
       "      <td>3</td>\n",
       "      <td>Allen, Mr. William Henry</td>\n",
       "      <td>male</td>\n",
       "      <td>35.0</td>\n",
       "      <td>0</td>\n",
       "      <td>0</td>\n",
       "      <td>373450</td>\n",
       "      <td>8.0500</td>\n",
       "      <td>NaN</td>\n",
       "      <td>S</td>\n",
       "    </tr>\n",
       "  </tbody>\n",
       "</table>\n",
       "</div>"
      ],
      "text/plain": [
       "   PassengerId  Survived  Pclass  \\\n",
       "0            1         0       3   \n",
       "1            2         1       1   \n",
       "2            3         1       3   \n",
       "3            4         1       1   \n",
       "4            5         0       3   \n",
       "\n",
       "                                                Name     Sex   Age  SibSp  \\\n",
       "0                            Braund, Mr. Owen Harris    male  22.0      1   \n",
       "1  Cumings, Mrs. John Bradley (Florence Briggs Th...  female  38.0      1   \n",
       "2                             Heikkinen, Miss. Laina  female  26.0      0   \n",
       "3       Futrelle, Mrs. Jacques Heath (Lily May Peel)  female  35.0      1   \n",
       "4                           Allen, Mr. William Henry    male  35.0      0   \n",
       "\n",
       "   Parch            Ticket     Fare Cabin Embarked  \n",
       "0      0         A/5 21171   7.2500   NaN        S  \n",
       "1      0          PC 17599  71.2833   C85        C  \n",
       "2      0  STON/O2. 3101282   7.9250   NaN        S  \n",
       "3      0            113803  53.1000  C123        S  \n",
       "4      0            373450   8.0500   NaN        S  "
      ]
     },
     "execution_count": 36,
     "metadata": {},
     "output_type": "execute_result"
    }
   ],
   "source": [
    "#импортируем библеотеку pandas и загружаем данные из файла titanic.csv\n",
    "import pandas\n",
    "data = pandas.read_csv('titanic.csv')\n",
    "#структура данных\n",
    "data.head()\n"
   ]
  },
  {
   "cell_type": "code",
   "execution_count": 45,
   "metadata": {},
   "outputs": [
    {
     "name": "stdout",
     "output_type": "stream",
     "text": [
      "216\n"
     ]
    }
   ],
   "source": [
    "# количество пассажиров в 1 классе\n",
    "amt_pass_3 = data['Pclass'].value_counts()[3]\n",
    "amt_pass_1 = data['Pclass'].value_counts()[1]\n",
    "print(amt_pass_1)"
   ]
  },
  {
   "cell_type": "code",
   "execution_count": 95,
   "metadata": {},
   "outputs": [
    {
     "name": "stdout",
     "output_type": "stream",
     "text": [
      "0.439918533605\n"
     ]
    }
   ],
   "source": [
    "# сравнение пассажиров 1 и 3 классов\n",
    "if amt_pass_1 < amt_pass_3:\n",
    "    print(amt_pass_1/amt_pass_3)\n",
    "elif amt_pass_1 < amt_pass_3:\n",
    "    print('Поровну')\n",
    "else:\n",
    "    print(amt_pass_3/amt_pass_1)"
   ]
  },
  {
   "cell_type": "code",
   "execution_count": 101,
   "metadata": {},
   "outputs": [
    {
     "name": "stdout",
     "output_type": "stream",
     "text": [
      "38.38 %\n"
     ]
    }
   ],
   "source": [
    "# % выжевших пассажиров\n",
    "alive = data['Survived'].value_counts()[1]\n",
    "died = data['Survived'].value_counts()[0]\n",
    "p_all = data['PassengerId'].count()\n",
    "p_sur = round(100 * alive/p_all, 2)\n",
    "print(p_sur, '%')"
   ]
  },
  {
   "cell_type": "code",
   "execution_count": 103,
   "metadata": {},
   "outputs": [
    {
     "name": "stdout",
     "output_type": "stream",
     "text": [
      "Мужчин больше, чем женщин\n"
     ]
    }
   ],
   "source": [
    "# men VS women\n",
    "men = data['Sex'].value_counts()['male']\n",
    "women = data['Sex'].value_counts()['female']\n",
    "if  men > women:\n",
    "    print('Мужчин больше, чем женщин')\n",
    "else:\n",
    "    print('Женщин больше, чем мужчин')"
   ]
  },
  {
   "cell_type": "code",
   "execution_count": 102,
   "metadata": {},
   "outputs": [
    {
     "name": "stdout",
     "output_type": "stream",
     "text": [
      "29.7\n"
     ]
    }
   ],
   "source": [
    "# средний возраст всех пассажиров\n",
    "mean_age_all = round(data['Age'].mean(), 2)\n",
    "print(mean_age_all)"
   ]
  },
  {
   "cell_type": "code",
   "execution_count": 35,
   "metadata": {},
   "outputs": [
    {
     "data": {
      "text/plain": [
       "28.0"
      ]
     },
     "execution_count": 35,
     "metadata": {},
     "output_type": "execute_result"
    }
   ],
   "source": [
    "# медианный возраст всех пассажиров\n",
    "median_age_all = data['Age'].median()\n",
    "print(median_age_all)"
   ]
  },
  {
   "cell_type": "code",
   "execution_count": 87,
   "metadata": {},
   "outputs": [
    {
     "name": "stdout",
     "output_type": "stream",
     "text": [
      "Средний возраст выживших пассажиров: 28.34\n",
      "Медианный возраст выживших пассажиров: 28.0\n",
      "Средний возраст всех пассажиров больше, чем средний возраст виживиших в  1.05\n",
      "Медианный возраст всех пассажиров равен медианному возрасту выживших\n"
     ]
    }
   ],
   "source": [
    "# средний и медианный возраст выжавших пассажиров\n",
    "sur_data = data[data['Survived'] == 1]\n",
    "sur_data[['Survived','Age']]\n",
    "\n",
    "mean_age_sur = round(sur_data['Age'].mean(), 2)\n",
    "median_age_sur = sur_data['Age'].median()\n",
    "\n",
    "print('Средний возраст выживших пассажиров:', mean_age_sur)\n",
    "print('Медианный возраст выживших пассажиров:', median_age_sur)\n",
    "\n",
    "#сравнение со среднем возрастом всех пассажиров тоже самое с медианой\n",
    "if mean_age_all > mean_age_sur:\n",
    "    comp = round(mean_age_all/mean_age_sur, 2)\n",
    "    print('Средний возраст всех пассажиров больше, чем средний возраст виживиших в ', comp)\n",
    "elif mean_age_all == mean_age_sur:\n",
    "    print('Средний возраст всех пассажиров равен среднему возрасту выживших')\n",
    "else:\n",
    "    comp = round(mean_age_sur/mean_age_all, 2)\n",
    "    print('Средний возраст всех пассажиров меньше, чем средний возраст виживиших в ', comp)\n",
    "\n",
    "#\n",
    "if median_age_all > median_age_sur:\n",
    "    comp = round(median_age_all/median_age_sur, 2)\n",
    "    print('Медианный возраст всех пассажиров больше, чем медианный возраст виживиших в ', comp)\n",
    "elif median_age_all == median_age_sur:\n",
    "    print('Медианный возраст всех пассажиров равен медианному возрасту выживших')\n",
    "else:\n",
    "    comp = round(median_age_sur/median_age_all, 2)\n",
    "    print('Медианный возраст всех пассажиров меньше, чем медианный возраст виживиших в ', comp)"
   ]
  },
  {
   "cell_type": "code",
   "execution_count": 86,
   "metadata": {},
   "outputs": [
    {
     "data": {
      "text/html": [
       "<div>\n",
       "<style>\n",
       "    .dataframe thead tr:only-child th {\n",
       "        text-align: right;\n",
       "    }\n",
       "\n",
       "    .dataframe thead th {\n",
       "        text-align: left;\n",
       "    }\n",
       "\n",
       "    .dataframe tbody tr th {\n",
       "        vertical-align: top;\n",
       "    }\n",
       "</style>\n",
       "<table border=\"1\" class=\"dataframe\">\n",
       "  <thead>\n",
       "    <tr style=\"text-align: right;\">\n",
       "      <th></th>\n",
       "      <th>SibSp</th>\n",
       "      <th>Parch</th>\n",
       "    </tr>\n",
       "  </thead>\n",
       "  <tbody>\n",
       "    <tr>\n",
       "      <th>SibSp</th>\n",
       "      <td>1.000000</td>\n",
       "      <td>0.414838</td>\n",
       "    </tr>\n",
       "    <tr>\n",
       "      <th>Parch</th>\n",
       "      <td>0.414838</td>\n",
       "      <td>1.000000</td>\n",
       "    </tr>\n",
       "  </tbody>\n",
       "</table>\n",
       "</div>"
      ],
      "text/plain": [
       "          SibSp     Parch\n",
       "SibSp  1.000000  0.414838\n",
       "Parch  0.414838  1.000000"
      ]
     },
     "execution_count": 86,
     "metadata": {},
     "output_type": "execute_result"
    }
   ],
   "source": [
    "#корреляция\n",
    "correlation_data = data[['SibSp','Parch']]\n",
    "\n",
    "correlation_data.corr()\n"
   ]
  },
  {
   "cell_type": "code",
   "execution_count": 151,
   "metadata": {},
   "outputs": [
    {
     "name": "stdout",
     "output_type": "stream",
     "text": [
      "Anna 15\n"
     ]
    }
   ],
   "source": [
    "# Удобней написать функцию, которая из входной строки выбирает имя:\n",
    "def get_name(s):\n",
    "    if s.find(\"(\") != -1:\n",
    "        index_start = s.find('(')\n",
    "        ss = s[index_start + 1:]\n",
    "        if ss.find(' ') != -1:\n",
    "            index_end = ss.find(' ')\n",
    "            ss = ss[:index_end]\n",
    "    else:    \n",
    "        index_start = s.find('.')\n",
    "        ss = s[index_start + 2:]\n",
    "        if ss.find(' ') != -1:\n",
    "            index_end = ss.find(' ')\n",
    "            ss = ss[:index_end]\n",
    "    \n",
    "    name = ss.replace('\"', '')\n",
    "    name = name.replace(')', '')\n",
    "    name = name.strip()\n",
    "    return name\n",
    "\n",
    "women_data = data[data['Sex'] == 'female']\n",
    "#print ([women_data])\n",
    "\n",
    "# Создадим список, в который будем складывать полученные имена.\n",
    "names = [] \n",
    "for full_name in women_data['Name']: \n",
    "    name = get_name(full_name)\n",
    "    names.append(name)\n",
    "\n",
    "names.sort()\n",
    "#print(names)\n",
    "\n",
    "i = 0\n",
    "num_max = 0\n",
    "for name in names:\n",
    "    num = names.count(names[i])\n",
    "    if num > num_max:\n",
    "        num_max = num\n",
    "        names_max = names[i]\n",
    "    i += 1\n",
    "    #print(names[i], '-', num)\n",
    "    \n",
    "\n",
    "print(names_max, num_max)   \n"
   ]
  },
  {
   "cell_type": "code",
   "execution_count": null,
   "metadata": {
    "collapsed": true
   },
   "outputs": [],
   "source": []
  },
  {
   "cell_type": "markdown",
   "metadata": {},
   "source": []
  }
 ],
 "metadata": {
  "kernelspec": {
   "display_name": "Python 3",
   "language": "python",
   "name": "python3"
  },
  "language_info": {
   "codemirror_mode": {
    "name": "ipython",
    "version": 3
   },
   "file_extension": ".py",
   "mimetype": "text/x-python",
   "name": "python",
   "nbconvert_exporter": "python",
   "pygments_lexer": "ipython3",
   "version": "3.6.2"
  }
 },
 "nbformat": 4,
 "nbformat_minor": 2
}
