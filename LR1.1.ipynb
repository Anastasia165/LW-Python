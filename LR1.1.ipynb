{
 "cells": [
  {
   "cell_type": "code",
   "execution_count": 5,
   "metadata": {
    "collapsed": true
   },
   "outputs": [],
   "source": [
    "salary = { \n",
    "        'Январь': 20000, \n",
    "        'Март': 18500, \n",
    "        'Апрель': 22500, \n",
    "        'Май': 21000, \n",
    "        'Июнь': 22000 \n",
    "} \n",
    "\n",
    "salary['Июль'] = 22500 \n",
    "salary['Август'] = 24088 "
   ]
  },
  {
   "cell_type": "code",
   "execution_count": 6,
   "metadata": {
    "collapsed": true
   },
   "outputs": [],
   "source": [
    "def month(d): \n",
    "    mon = list(d.keys()) \n",
    "    return mon "
   ]
  },
  {
   "cell_type": "code",
   "execution_count": 7,
   "metadata": {},
   "outputs": [
    {
     "name": "stdout",
     "output_type": "stream",
     "text": [
      "['Январь', 'Март', 'Апрель', 'Май', 'Июнь', 'Июль', 'Август']\n"
     ]
    }
   ],
   "source": [
    "print(month(salary)) "
   ]
  },
  {
   "cell_type": "code",
   "execution_count": 8,
   "metadata": {
    "collapsed": true
   },
   "outputs": [],
   "source": [
    "def average(d): \n",
    "    values = 0 \n",
    "    j = 0 \n",
    "    for i in d: \n",
    "        j += 1 \n",
    "        values += d[i] \n",
    "        values = values/j \n",
    "    return values "
   ]
  },
  {
   "cell_type": "code",
   "execution_count": 10,
   "metadata": {},
   "outputs": [
    {
     "name": "stdout",
     "output_type": "stream",
     "text": [
      "4123\n"
     ]
    }
   ],
   "source": [
    "print(round(average(salary)))"
   ]
  },
  {
   "cell_type": "code",
   "execution_count": 12,
   "metadata": {
    "collapsed": true
   },
   "outputs": [],
   "source": [
    "teremok = { \n",
    "        'Январь': 30000, \n",
    "        'Март': 35500, \n",
    "        'Апрель': 32500, \n",
    "        'Май': 37000, \n",
    "        'Июнь': 40000, \n",
    "        'Июль': 39000, \n",
    "        'Август': 38500 \n",
    "} "
   ]
  },
  {
   "cell_type": "code",
   "execution_count": 13,
   "metadata": {},
   "outputs": [
    {
     "name": "stdout",
     "output_type": "stream",
     "text": [
      "6689\n"
     ]
    }
   ],
   "source": [
    "print(round(average(teremok)))"
   ]
  },
  {
   "cell_type": "code",
   "execution_count": 14,
   "metadata": {},
   "outputs": [
    {
     "name": "stdout",
     "output_type": "stream",
     "text": [
      "Зарплата в теремке больше в  1.62\n"
     ]
    }
   ],
   "source": [
    "teremok_mean_salary = average(teremok) \n",
    "zi_mean_salary = average(salary) \n",
    "\n",
    "if teremok_mean_salary > zi_mean_salary: \n",
    "    profit = round(teremok_mean_salary/zi_mean_salary, 2)\n",
    "    print('Зарплата в теремке больше в ', profit)\n",
    "elif teremok_mean_salary == zi_mean_salary: \n",
    "    print('Зарплаты равны')\n",
    "else: \n",
    "    profit = zi_mean_salary/teremok_mean_salary \n",
    "    print('Зарплата специалиста по ЗИ больше в ', profit) "
   ]
  },
  {
   "cell_type": "code",
   "execution_count": null,
   "metadata": {
    "collapsed": true
   },
   "outputs": [],
   "source": []
  }
 ],
 "metadata": {
  "kernelspec": {
   "display_name": "Python 3",
   "language": "python",
   "name": "python3"
  },
  "language_info": {
   "codemirror_mode": {
    "name": "ipython",
    "version": 3
   },
   "file_extension": ".py",
   "mimetype": "text/x-python",
   "name": "python",
   "nbconvert_exporter": "python",
   "pygments_lexer": "ipython3",
   "version": "3.6.2"
  }
 },
 "nbformat": 4,
 "nbformat_minor": 2
}
