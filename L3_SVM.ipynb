{
 "cells": [
  {
   "cell_type": "markdown",
   "metadata": {},
   "source": [
    "# Метод опорных векторов (SVM - support vector machine) на текстах\n",
    "Импортируем всё, что пригодится:"
   ]
  },
  {
   "cell_type": "code",
   "execution_count": 1,
   "metadata": {
    "collapsed": true
   },
   "outputs": [],
   "source": [
    "import pandas\n",
    "from sklearn.datasets import fetch_20newsgroups\n",
    "from sklearn.feature_extraction.text import TfidfVectorizer\n",
    "from sklearn.svm import SVC\n",
    "from sklearn.model_selection import KFold, cross_val_score, GridSearchCV\n",
    "from matplotlib import pyplot as plt\n",
    "%matplotlib inline"
   ]
  },
  {
   "cell_type": "markdown",
   "metadata": {},
   "source": [
    "В pandas есть дефолтный метод, который подгружает тексты новостей - fetch_20newsgroups. Загрузите новости в переменную data. (Чтобы загрузить все новости, нужно передать в функцию параметр subset='all'.)"
   ]
  },
  {
   "cell_type": "code",
   "execution_count": 2,
   "metadata": {
    "collapsed": true
   },
   "outputs": [],
   "source": [
    "data = fetch_20newsgroups(subset='all')"
   ]
  },
  {
   "cell_type": "markdown",
   "metadata": {},
   "source": [
    "Тип нашей переменной - класс Bunch. Посмотрим, что с ним можно делать:"
   ]
  },
  {
   "cell_type": "code",
   "execution_count": 3,
   "metadata": {},
   "outputs": [
    {
     "data": {
      "text/plain": [
       "['DESCR', 'data', 'description', 'filenames', 'target', 'target_names']"
      ]
     },
     "execution_count": 3,
     "metadata": {},
     "output_type": "execute_result"
    }
   ],
   "source": [
    "dir(data)"
   ]
  },
  {
   "cell_type": "markdown",
   "metadata": {},
   "source": [
    "<ul>\n",
    "  <li>data - это тексты (т.е. наши признаки, вектор Х)</li>\n",
    "  <li>target - это номера категорий текстов (т.е. значения целевой переменной у)</li>\n",
    "  <li>target_names - это список названий категорий\n",
    "</ul>\n",
    "Посмотрим, какие категории у нас есть в этом датасете:"
   ]
  },
  {
   "cell_type": "code",
   "execution_count": 4,
   "metadata": {},
   "outputs": [
    {
     "data": {
      "text/plain": [
       "['alt.atheism',\n",
       " 'comp.graphics',\n",
       " 'comp.os.ms-windows.misc',\n",
       " 'comp.sys.ibm.pc.hardware',\n",
       " 'comp.sys.mac.hardware',\n",
       " 'comp.windows.x',\n",
       " 'misc.forsale',\n",
       " 'rec.autos',\n",
       " 'rec.motorcycles',\n",
       " 'rec.sport.baseball',\n",
       " 'rec.sport.hockey',\n",
       " 'sci.crypt',\n",
       " 'sci.electronics',\n",
       " 'sci.med',\n",
       " 'sci.space',\n",
       " 'soc.religion.christian',\n",
       " 'talk.politics.guns',\n",
       " 'talk.politics.mideast',\n",
       " 'talk.politics.misc',\n",
       " 'talk.religion.misc']"
      ]
     },
     "execution_count": 4,
     "metadata": {},
     "output_type": "execute_result"
    }
   ],
   "source": [
    "data.target_names"
   ]
  },
  {
   "cell_type": "markdown",
   "metadata": {
    "collapsed": true
   },
   "source": [
    "Чтобы понять, что есть что, посмотрим на data и target:"
   ]
  },
  {
   "cell_type": "code",
   "execution_count": 5,
   "metadata": {},
   "outputs": [
    {
     "data": {
      "text/plain": [
       "\"From: Mamatha Devineni Ratnam <mr47+@andrew.cmu.edu>\\nSubject: Pens fans reactions\\nOrganization: Post Office, Carnegie Mellon, Pittsburgh, PA\\nLines: 12\\nNNTP-Posting-Host: po4.andrew.cmu.edu\\n\\n\\n\\nI am sure some bashers of Pens fans are pretty confused about the lack\\nof any kind of posts about the recent Pens massacre of the Devils. Actually,\\nI am  bit puzzled too and a bit relieved. However, I am going to put an end\\nto non-PIttsburghers' relief with a bit of praise for the Pens. Man, they\\nare killing those Devils worse than I thought. Jagr just showed you why\\nhe is much better than his regular season stats. He is also a lot\\nfo fun to watch in the playoffs. Bowman should let JAgr have a lot of\\nfun in the next couple of games since the Pens are going to beat the pulp out of Jersey anyway. I was very disappointed not to see the Islanders lose the final\\nregular season game.          PENS RULE!!!\\n\\n\""
      ]
     },
     "execution_count": 5,
     "metadata": {},
     "output_type": "execute_result"
    }
   ],
   "source": [
    "data.data[0]"
   ]
  },
  {
   "cell_type": "code",
   "execution_count": 6,
   "metadata": {},
   "outputs": [
    {
     "data": {
      "text/plain": [
       "(10, 'rec.sport.hockey')"
      ]
     },
     "execution_count": 6,
     "metadata": {},
     "output_type": "execute_result"
    }
   ],
   "source": [
    "data.target[0], data.target_names[data.target[0]]"
   ]
  },
  {
   "cell_type": "markdown",
   "metadata": {},
   "source": [
    "Пора создать выборку для бинарной классификации. Для этого в параметре categories нужно передать список из двух любых категорий, которые вам интересны."
   ]
  },
  {
   "cell_type": "code",
   "execution_count": 7,
   "metadata": {
    "collapsed": true
   },
   "outputs": [],
   "source": [
    "data = fetch_20newsgroups(subset='all',categories=['rec.autos', 'rec.sport.hockey'])"
   ]
  },
  {
   "cell_type": "markdown",
   "metadata": {},
   "source": [
    "Введите переменную X, в которую запишите посчитанные TF-IDF-признаки для всех текстов.\n",
    "\n",
    "Для преобразования данных в sklearn есть ряд классов-\"преобразователей\". Алгоритм работы с ними похож на обучение и предсказание классификаторов, только преобразователь нужно прежде \"обучить\" (fit), а потом преобразовать данные методом transform. Оба эти метода на вход принимают набор данных, которые нужно преобразовать.\n",
    "\n",
    "Для того, чтобы выполнить преобразование TF-IDF, воспользуйтесь классом TfidVectorizer (http://scikit-learn.org/stable/modules/generated/sklearn.feature_extraction.text.TfidfVectorizer.html)."
   ]
  },
  {
   "cell_type": "code",
   "execution_count": 8,
   "metadata": {},
   "outputs": [
    {
     "data": {
      "text/plain": [
       "(1989, 25902)"
      ]
     },
     "execution_count": 8,
     "metadata": {},
     "output_type": "execute_result"
    }
   ],
   "source": [
    "vectorizer = TfidfVectorizer()\n",
    "X = vectorizer.fit_transform(data.data)\n",
    "X.shape"
   ]
  },
  {
   "cell_type": "markdown",
   "metadata": {},
   "source": [
    "В переменную y запишите классы ответов из исходной выборки."
   ]
  },
  {
   "cell_type": "code",
   "execution_count": 9,
   "metadata": {
    "collapsed": true
   },
   "outputs": [],
   "source": [
    "y = data.target"
   ]
  },
  {
   "cell_type": "markdown",
   "metadata": {},
   "source": [
    "Для метода опорных векторов тоже требуется регуляризация. Подберите минимальный лучший параметр регуляризации C из множества [10^−5, 10^−4, ... 10^4, 10^5] для SVM с линейным ядром при помощи кросс-валидации (KFold) по 6 блокам. Укажите параметр random_state=вашему варианту и для SVM, и для KFold. У KFold еще укажите параметр shuffle=True, который перед работой рандомно перемешает выборку. Мера качества - accuracy. Постройте график accuracy от C.\n",
    "\n",
    "Инициализация SVM-классификатора: SVC(kernel='linear', C=..., random_state=...)\n",
    "\n",
    "Как работать с KFold и как строить график, можно подглядеть в предыдущей лабе.\n",
    "\n",
    "Полезные ссылки:<ul>\n",
    "<li>http://scikit-learn.org/stable/modules/generated/sklearn.svm.SVC.html</li>\n",
    "<li>http://scikit-learn.org/stable/modules/generated/sklearn.model_selection.KFold.html</li>\n",
    "<li>http://scikit-learn.org/stable/modules/generated/sklearn.model_selection.GridSearchCV.html</li>\n",
    "</ul>"
   ]
  },
  {
   "cell_type": "code",
   "execution_count": 10,
   "metadata": {},
   "outputs": [
    {
     "name": "stdout",
     "output_type": "stream",
     "text": [
      "лучший параметр регуляризации C = 10 при current_score= 0.993470862301\n",
      "0.993470862301\n"
     ]
    },
    {
     "data": {
      "text/plain": [
       "[<matplotlib.lines.Line2D at 0x119b162e8>]"
      ]
     },
     "execution_count": 10,
     "metadata": {},
     "output_type": "execute_result"
    },
    {
     "data": {
      "image/png": "[encoded data removed]",
      "text/plain": [
       "<matplotlib.figure.Figure at 0x119977320>"
      ]
     },
     "metadata": {},
     "output_type": "display_data"
    }
   ],
   "source": [
    "kfold = KFold(n_splits=6, shuffle=True, random_state=3)\n",
    "c = [10** x for x in range(-5,5,1)]\n",
    "\n",
    "svc_scores = []\n",
    "best_c=0\n",
    "best_score=0\n",
    "for i in c:\n",
    "    svc_clf = SVC(kernel='linear', C=i, random_state=3)\n",
    "    current_score = cross_val_score(svc_clf, X, y, cv=kfold).mean()\n",
    "    svc_scores.append(current_score)\n",
    "    #print('При С =', i, 'точность равна', current_score)\n",
    "    if current_score > best_score:\n",
    "        best_score = current_score\n",
    "        best_c = i\n",
    "print('лучший параметр регуляризации C =', best_c, 'при current_score=', best_score)\n",
    "print(max(svc_scores))\n",
    "\n",
    "#график\n",
    "plt.plot(c, svc_scores)"
   ]
  },
  {
   "cell_type": "markdown",
   "metadata": {},
   "source": [
    "Обучите классификатор с лучшим параметром C."
   ]
  },
  {
   "cell_type": "code",
   "execution_count": 11,
   "metadata": {},
   "outputs": [
    {
     "data": {
      "text/plain": [
       "SVC(C=10, cache_size=200, class_weight=None, coef0=0.0,\n",
       "  decision_function_shape='ovr', degree=3, gamma='auto', kernel='linear',\n",
       "  max_iter=-1, probability=False, random_state=3, shrinking=True,\n",
       "  tol=0.001, verbose=False)"
      ]
     },
     "execution_count": 11,
     "metadata": {},
     "output_type": "execute_result"
    }
   ],
   "source": [
    "svc_clf = SVC(kernel='linear', C=best_c, random_state=3)\n",
    "svc_clf.fit(X, y)"
   ]
  },
  {
   "cell_type": "markdown",
   "metadata": {},
   "source": [
    "Выделим несколько самых характерных для этой темы слов. Вбейте их в гугл и сравните выбранную тему с темой первой попавшейся статьи."
   ]
  },
  {
   "cell_type": "code",
   "execution_count": 12,
   "metadata": {},
   "outputs": [
    {
     "data": {
      "text/plain": [
       "['hockey', 'game', 'nhl', 'team', 'ca', 'games']"
      ]
     },
     "execution_count": 12,
     "metadata": {},
     "output_type": "execute_result"
    }
   ],
   "source": [
    "iis = pandas.DataFrame(svc_clf.coef_.data, svc_clf.coef_.indices).sort_values(by=0, ascending=False)\n",
    "names = vectorizer.get_feature_names()\n",
    "[names[i] for i in iis.index[:6]]"
   ]
  },
  {
   "cell_type": "markdown",
   "metadata": {},
   "source": [
    "А теперь найдите любую статью по выбранной теме (на английском языке) и скопируйте ее текст в файл article.txt в папке с данным блокнотом. Что предскажет классификатор относительно тематики этой статьи? Прав ли он оказался?"
   ]
  },
  {
   "cell_type": "code",
   "execution_count": 13,
   "metadata": {},
   "outputs": [
    {
     "name": "stdout",
     "output_type": "stream",
     "text": [
      "rec.autos\n"
     ]
    }
   ],
   "source": [
    "with open('article.txt') as article:\n",
    "    # наша статья записана в переменную article. Проведите TF-IDF-преобразование и сделайте предсказание о теме.\n",
    "    # Название темы можно взять по индексу в data.target_names. Помните, что predict выдает ndarray, поэтому значение\n",
    "    # нашего единственного предсказание можно получить по индексу 0.\n",
    "    prediction = svc_clf.predict(vectorizer.transform(article))\n",
    "    print(data.target_names[data.target[prediction[0]]])"
   ]
  }
 ],
 "metadata": {
  "kernelspec": {
   "display_name": "Python 3",
   "language": "python",
   "name": "python3"
  },
  "language_info": {
   "codemirror_mode": {
    "name": "ipython",
    "version": 3
   },
   "file_extension": ".py",
   "mimetype": "text/x-python",
   "name": "python",
   "nbconvert_exporter": "python",
   "pygments_lexer": "ipython3",
   "version": "3.6.2"
  }
 },
 "nbformat": 4,
 "nbformat_minor": 2
}
